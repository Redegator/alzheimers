{
 "cells": [
  {
   "cell_type": "code",
   "execution_count": 1,
   "id": "b100b908-08b1-43cc-b386-8a51b0bb3666",
   "metadata": {
    "scrolled": true
   },
   "outputs": [
    {
     "name": "stderr",
     "output_type": "stream",
     "text": [
      "C:\\Users\\redegator\\mambaforge\\envs\\ML\\lib\\site-packages\\anndata\\utils.py:429: FutureWarning: Importing read_csv from `anndata` is deprecated. Import anndata.io.read_csv instead.\n",
      "  warnings.warn(msg, FutureWarning)\n",
      "C:\\Users\\redegator\\mambaforge\\envs\\ML\\lib\\site-packages\\anndata\\utils.py:429: FutureWarning: Importing read_excel from `anndata` is deprecated. Import anndata.io.read_excel instead.\n",
      "  warnings.warn(msg, FutureWarning)\n",
      "C:\\Users\\redegator\\mambaforge\\envs\\ML\\lib\\site-packages\\anndata\\utils.py:429: FutureWarning: Importing read_hdf from `anndata` is deprecated. Import anndata.io.read_hdf instead.\n",
      "  warnings.warn(msg, FutureWarning)\n",
      "C:\\Users\\redegator\\mambaforge\\envs\\ML\\lib\\site-packages\\anndata\\utils.py:429: FutureWarning: Importing read_loom from `anndata` is deprecated. Import anndata.io.read_loom instead.\n",
      "  warnings.warn(msg, FutureWarning)\n",
      "C:\\Users\\redegator\\mambaforge\\envs\\ML\\lib\\site-packages\\anndata\\utils.py:429: FutureWarning: Importing read_mtx from `anndata` is deprecated. Import anndata.io.read_mtx instead.\n",
      "  warnings.warn(msg, FutureWarning)\n",
      "C:\\Users\\redegator\\mambaforge\\envs\\ML\\lib\\site-packages\\anndata\\utils.py:429: FutureWarning: Importing read_text from `anndata` is deprecated. Import anndata.io.read_text instead.\n",
      "  warnings.warn(msg, FutureWarning)\n",
      "C:\\Users\\redegator\\mambaforge\\envs\\ML\\lib\\site-packages\\anndata\\utils.py:429: FutureWarning: Importing read_umi_tools from `anndata` is deprecated. Import anndata.io.read_umi_tools instead.\n",
      "  warnings.warn(msg, FutureWarning)\n"
     ]
    },
    {
     "name": "stdout",
     "output_type": "stream",
     "text": [
      "1.10.3\n"
     ]
    }
   ],
   "source": [
    "import scanpy as sc\n",
    "import anndata as ad\n",
    "import pandas as pd\n",
    "import numpy as np\n",
    "import os\n",
    "\n",
    "print(sc.__version__)"
   ]
  },
  {
   "cell_type": "markdown",
   "id": "8777a4d8-725b-4a90-afcc-6d31a7a7827d",
   "metadata": {},
   "source": [
    "---------------------------"
   ]
  },
  {
   "cell_type": "markdown",
   "id": "0f9802be-f111-4338-bb42-40f5d7cb8b11",
   "metadata": {},
   "source": [
    "# Here I want to look for duplicates"
   ]
  },
  {
   "cell_type": "code",
   "execution_count": 10,
   "id": "954f2f90-ab31-4335-a8d9-1dadbfc2e11e",
   "metadata": {
    "scrolled": true
   },
   "outputs": [
    {
     "name": "stderr",
     "output_type": "stream",
     "text": [
      "C:\\Users\\redegator\\mambaforge\\envs\\ML\\lib\\site-packages\\anndata\\_core\\anndata.py:1758: UserWarning: Variable names are not unique. To make them unique, call `.var_names_make_unique`.\n",
      "  utils.warn_names_duplicates(\"var\")\n",
      "C:\\Users\\redegator\\mambaforge\\envs\\ML\\lib\\site-packages\\anndata\\_core\\anndata.py:1758: UserWarning: Variable names are not unique. To make them unique, call `.var_names_make_unique`.\n",
      "  utils.warn_names_duplicates(\"var\")\n"
     ]
    }
   ],
   "source": [
    "adata = sc.read_10x_h5('data files/GSM6186021_DeJager_MO_LOAD11_G_filtered_feature_bc_matrix.h5')"
   ]
  },
  {
   "cell_type": "code",
   "execution_count": 11,
   "id": "f2fd2655-bf74-4462-bbcc-82e041c8d923",
   "metadata": {},
   "outputs": [
    {
     "data": {
      "text/plain": [
       "AnnData object with n_obs × n_vars = 1359 × 27984\n",
       "    var: 'gene_ids', 'feature_types', 'genome'"
      ]
     },
     "execution_count": 11,
     "metadata": {},
     "output_type": "execute_result"
    }
   ],
   "source": [
    "adata"
   ]
  },
  {
   "cell_type": "code",
   "execution_count": 3,
   "id": "4bc04958-adaf-4977-8680-44f063b21f6a",
   "metadata": {},
   "outputs": [
    {
     "data": {
      "text/plain": [
       "Index(['LINC01115', 'STPG4', 'PDE11A', 'PRSS50', 'TXNRD3NB', 'ARL14EPL',\n",
       "       'MATR3', 'RABGEF1', 'TMSB15B', 'KBTBD11-OT1', 'LINC00484', 'LINC01505',\n",
       "       'EMG1', 'SPATA13', 'GOLGA8M', 'COG8', 'LINC01297', 'LINC01422', 'SCO2',\n",
       "       'H2BFS'],\n",
       "      dtype='object')"
      ]
     },
     "execution_count": 3,
     "metadata": {},
     "output_type": "execute_result"
    }
   ],
   "source": [
    "adata.var_names[adata.var_names.duplicated()] # list of duplicates"
   ]
  },
  {
   "cell_type": "code",
   "execution_count": 4,
   "id": "f341c64c-a2e5-4894-92e8-c7cb6d3bcfc2",
   "metadata": {},
   "outputs": [
    {
     "data": {
      "text/html": [
       "<div>\n",
       "<style scoped>\n",
       "    .dataframe tbody tr th:only-of-type {\n",
       "        vertical-align: middle;\n",
       "    }\n",
       "\n",
       "    .dataframe tbody tr th {\n",
       "        vertical-align: top;\n",
       "    }\n",
       "\n",
       "    .dataframe thead th {\n",
       "        text-align: right;\n",
       "    }\n",
       "</style>\n",
       "<table border=\"1\" class=\"dataframe\">\n",
       "  <thead>\n",
       "    <tr style=\"text-align: right;\">\n",
       "      <th></th>\n",
       "      <th>gene_ids</th>\n",
       "      <th>feature_types</th>\n",
       "      <th>genome</th>\n",
       "    </tr>\n",
       "  </thead>\n",
       "  <tbody>\n",
       "    <tr>\n",
       "      <th>STPG4</th>\n",
       "      <td>ENSG00000239605</td>\n",
       "      <td>Gene Expression</td>\n",
       "      <td>refdata-cellranger-3.1.0-Homo.sapiens.GRCh38.91</td>\n",
       "    </tr>\n",
       "    <tr>\n",
       "      <th>STPG4</th>\n",
       "      <td>ENSG00000273269</td>\n",
       "      <td>Gene Expression</td>\n",
       "      <td>refdata-cellranger-3.1.0-Homo.sapiens.GRCh38.91</td>\n",
       "    </tr>\n",
       "  </tbody>\n",
       "</table>\n",
       "</div>"
      ],
      "text/plain": [
       "              gene_ids    feature_types  \\\n",
       "STPG4  ENSG00000239605  Gene Expression   \n",
       "STPG4  ENSG00000273269  Gene Expression   \n",
       "\n",
       "                                                genome  \n",
       "STPG4  refdata-cellranger-3.1.0-Homo.sapiens.GRCh38.91  \n",
       "STPG4  refdata-cellranger-3.1.0-Homo.sapiens.GRCh38.91  "
      ]
     },
     "execution_count": 4,
     "metadata": {},
     "output_type": "execute_result"
    }
   ],
   "source": [
    "adata.var.loc[adata.var_names == 'STPG4']"
   ]
  },
  {
   "cell_type": "markdown",
   "id": "61f1293b-1950-471c-98b2-9345bf9be4f6",
   "metadata": {},
   "source": [
    "They have different ensembls"
   ]
  },
  {
   "cell_type": "code",
   "execution_count": 5,
   "id": "c57ecc28-2fbc-4122-b828-76397c7d117f",
   "metadata": {},
   "outputs": [
    {
     "name": "stdout",
     "output_type": "stream",
     "text": [
      "2 LINC01115\n",
      "2 STPG4\n",
      "2 PDE11A\n",
      "2 PRSS50\n",
      "2 TXNRD3NB\n",
      "2 ARL14EPL\n",
      "2 MATR3\n",
      "2 RABGEF1\n",
      "2 TMSB15B\n",
      "2 KBTBD11-OT1\n",
      "2 LINC00484\n",
      "2 LINC01505\n",
      "2 EMG1\n",
      "2 SPATA13\n",
      "2 GOLGA8M\n",
      "2 COG8\n",
      "2 LINC01297\n",
      "2 LINC01422\n",
      "2 SCO2\n",
      "2 H2BFS\n"
     ]
    }
   ],
   "source": [
    "for gene in adata.var_names[adata.var_names.duplicated()]:\n",
    "    length = len(adata.var.loc[adata.var_names == gene])\n",
    "    print(length, gene)"
   ]
  },
  {
   "cell_type": "markdown",
   "id": "5beaaeb5-9382-412e-af5b-4b9975221fcb",
   "metadata": {},
   "source": [
    "**Making the genes unique (and saving not unique too):**"
   ]
  },
  {
   "cell_type": "code",
   "execution_count": 6,
   "id": "468e6699-2134-4056-8c43-7f50a593089b",
   "metadata": {},
   "outputs": [
    {
     "name": "stderr",
     "output_type": "stream",
     "text": [
      "C:\\Users\\redegator\\mambaforge\\envs\\ML\\lib\\site-packages\\anndata\\_core\\anndata.py:1758: UserWarning: Variable names are not unique. To make them unique, call `.var_names_make_unique`.\n",
      "  utils.warn_names_duplicates(\"var\")\n"
     ]
    },
    {
     "name": "stdout",
     "output_type": "stream",
     "text": [
      "True\n",
      "False\n"
     ]
    }
   ],
   "source": [
    "adata_copy = adata.copy()\n",
    "\n",
    "# Before making unique\n",
    "print((adata.var_names == adata_copy.var_names).all())  # This will print True\n",
    "\n",
    "# Make var_names unique in one object\n",
    "adata.var_names_make_unique()\n",
    "\n",
    "# Check again\n",
    "print((adata.var_names == adata_copy.var_names).all())  # This will print False\n"
   ]
  },
  {
   "cell_type": "code",
   "execution_count": 7,
   "id": "e037ef9c-c19c-4d59-bad0-91b20a9d8c7f",
   "metadata": {},
   "outputs": [
    {
     "data": {
      "text/plain": [
       "Index(['LINC01115-1', 'STPG4-1', 'PDE11A-1', 'PRSS50-1', 'TXNRD3NB-1',\n",
       "       'ARL14EPL-1', 'MATR3-1', 'RABGEF1-1', 'TMSB15B-1', 'KBTBD11-OT1-1',\n",
       "       'LINC00484-1', 'LINC01505-1', 'EMG1-1', 'SPATA13-1', 'GOLGA8M-1',\n",
       "       'COG8-1', 'LINC01297-1', 'LINC01422-1', 'SCO2-1', 'H2BFS-1'],\n",
       "      dtype='object')"
      ]
     },
     "execution_count": 7,
     "metadata": {},
     "output_type": "execute_result"
    }
   ],
   "source": [
    "adata.var_names[adata_copy.var_names.duplicated()] # How the genes were named before"
   ]
  },
  {
   "cell_type": "code",
   "execution_count": 8,
   "id": "b801dbf9-5343-4a23-abee-ee54ad84cd13",
   "metadata": {},
   "outputs": [
    {
     "data": {
      "text/plain": [
       "Index(['LINC01115', 'STPG4', 'PDE11A', 'PRSS50', 'TXNRD3NB', 'ARL14EPL',\n",
       "       'MATR3', 'RABGEF1', 'TMSB15B', 'KBTBD11-OT1', 'LINC00484', 'LINC01505',\n",
       "       'EMG1', 'SPATA13', 'GOLGA8M', 'COG8', 'LINC01297', 'LINC01422', 'SCO2',\n",
       "       'H2BFS'],\n",
       "      dtype='object')"
      ]
     },
     "execution_count": 8,
     "metadata": {},
     "output_type": "execute_result"
    }
   ],
   "source": [
    "adata_copy.var_names[adata_copy.var_names.duplicated()] # How the genes are named after (with '-1')"
   ]
  },
  {
   "cell_type": "markdown",
   "id": "5910f332-9eda-484c-853c-3c6e01ac44b6",
   "metadata": {},
   "source": [
    "**Check if thses duplicates are being removed after filtering\\\n",
    "I want to do this before comparing the expression levels of two genes across all cells**"
   ]
  },
  {
   "cell_type": "code",
   "execution_count": 9,
   "id": "51e61021-506c-421c-9048-71c64f792016",
   "metadata": {},
   "outputs": [
    {
     "name": "stdout",
     "output_type": "stream",
     "text": [
      "Index(['EMG1', 'COG8'], dtype='object')\n"
     ]
    },
    {
     "name": "stderr",
     "output_type": "stream",
     "text": [
      "C:\\Users\\redegator\\mambaforge\\envs\\ML\\lib\\site-packages\\anndata\\_core\\anndata.py:1758: UserWarning: Variable names are not unique. To make them unique, call `.var_names_make_unique`.\n",
      "  utils.warn_names_duplicates(\"var\")\n",
      "C:\\Users\\redegator\\mambaforge\\envs\\ML\\lib\\site-packages\\anndata\\_core\\anndata.py:1758: UserWarning: Variable names are not unique. To make them unique, call `.var_names_make_unique`.\n",
      "  utils.warn_names_duplicates(\"var\")\n",
      "C:\\Users\\redegator\\mambaforge\\envs\\ML\\lib\\site-packages\\anndata\\_core\\anndata.py:1758: UserWarning: Variable names are not unique. To make them unique, call `.var_names_make_unique`.\n",
      "  utils.warn_names_duplicates(\"var\")\n"
     ]
    }
   ],
   "source": [
    "adata_copy_filtered = adata_copy.copy()\n",
    "\n",
    "sc.pp.filter_cells(adata_copy_filtered, min_genes=100)\n",
    "sc.pp.filter_genes(adata_copy_filtered, min_cells=3)\n",
    "\n",
    "print(adata_copy_filtered.var_names[adata_copy_filtered.var_names.duplicated()])"
   ]
  },
  {
   "cell_type": "markdown",
   "id": "a72a32dc-7198-41f1-ab0b-b1e81a5c9417",
   "metadata": {
    "jp-MarkdownHeadingCollapsed": true
   },
   "source": [
    "**After filtering by min_genes=100 and min_cells=3 there are only 2 genes left:** \\\n",
    "['EMG1', 'COG8']"
   ]
  },
  {
   "cell_type": "markdown",
   "id": "699dd7dc-344a-4a68-bce4-c153772d92c3",
   "metadata": {},
   "source": [
    "**Compares the expression levels of two genes across all cells**"
   ]
  },
  {
   "cell_type": "code",
   "execution_count": 10,
   "id": "eb61f1d4-0176-4b69-b506-03add0b88df1",
   "metadata": {
    "scrolled": true
   },
   "outputs": [
    {
     "name": "stdout",
     "output_type": "stream",
     "text": [
      "<Compressed Sparse Row sparse matrix of dtype 'bool'\n",
      "\twith 1308 stored elements and shape (1359, 1)>\n",
      "  Coords\tValues\n",
      "  (0, 0)\tTrue\n",
      "  (1, 0)\tTrue\n",
      "  (2, 0)\tTrue\n",
      "  (3, 0)\tTrue\n",
      "  (4, 0)\tTrue\n",
      "  (5, 0)\tTrue\n",
      "  (6, 0)\tTrue\n",
      "  (7, 0)\tTrue\n",
      "  (8, 0)\tTrue\n",
      "  (9, 0)\tTrue\n",
      "  (10, 0)\tTrue\n",
      "  (11, 0)\tTrue\n",
      "  (12, 0)\tTrue\n",
      "  (13, 0)\tTrue\n",
      "  (14, 0)\tTrue\n",
      "  (15, 0)\tTrue\n",
      "  (16, 0)\tTrue\n",
      "  (17, 0)\tTrue\n",
      "  (18, 0)\tTrue\n",
      "  (19, 0)\tTrue\n",
      "  (20, 0)\tTrue\n",
      "  (21, 0)\tTrue\n",
      "  (22, 0)\tTrue\n",
      "  (23, 0)\tTrue\n",
      "  (24, 0)\tTrue\n",
      "  :\t:\n",
      "  (1333, 0)\tTrue\n",
      "  (1334, 0)\tTrue\n",
      "  (1335, 0)\tTrue\n",
      "  (1336, 0)\tTrue\n",
      "  (1337, 0)\tTrue\n",
      "  (1338, 0)\tTrue\n",
      "  (1339, 0)\tTrue\n",
      "  (1340, 0)\tTrue\n",
      "  (1341, 0)\tTrue\n",
      "  (1342, 0)\tTrue\n",
      "  (1343, 0)\tTrue\n",
      "  (1344, 0)\tTrue\n",
      "  (1345, 0)\tTrue\n",
      "  (1346, 0)\tTrue\n",
      "  (1347, 0)\tTrue\n",
      "  (1348, 0)\tTrue\n",
      "  (1349, 0)\tTrue\n",
      "  (1350, 0)\tTrue\n",
      "  (1351, 0)\tTrue\n",
      "  (1353, 0)\tTrue\n",
      "  (1354, 0)\tTrue\n",
      "  (1355, 0)\tTrue\n",
      "  (1356, 0)\tTrue\n",
      "  (1357, 0)\tTrue\n",
      "  (1358, 0)\tTrue\n"
     ]
    },
    {
     "name": "stderr",
     "output_type": "stream",
     "text": [
      "C:\\Users\\redegator\\mambaforge\\envs\\ML\\lib\\site-packages\\IPython\\core\\interactiveshell.py:3577: SparseEfficiencyWarning: Comparing sparse matrices using == is inefficient, try using != instead.\n",
      "  exec(code_obj, self.user_global_ns, self.user_ns)\n"
     ]
    }
   ],
   "source": [
    "print(adata[:, 'COG8'].X == adata[:, 'COG8-1'].X)"
   ]
  },
  {
   "cell_type": "code",
   "execution_count": 11,
   "id": "b3ab223c-200b-476a-901d-6e57fd0f0369",
   "metadata": {},
   "outputs": [
    {
     "name": "stdout",
     "output_type": "stream",
     "text": [
      "51\n",
      "[  88  136  170  230  245  266  277  285  286  296  355  429  509  512\n",
      "  534  559  566  580  603  614  649  737  758  811  823  827  839  861\n",
      "  863  867  901  907  927  943  955  992  999 1010 1071 1084 1087 1105\n",
      " 1142 1158 1178 1198 1258 1266 1295 1305 1352]\n"
     ]
    },
    {
     "name": "stderr",
     "output_type": "stream",
     "text": [
      "C:\\Users\\redegator\\mambaforge\\envs\\ML\\lib\\site-packages\\IPython\\core\\interactiveshell.py:3577: SparseEfficiencyWarning: Comparing a sparse matrix with a nonzero scalar using != is inefficient, try using == instead.\n",
      "  exec(code_obj, self.user_global_ns, self.user_ns)\n"
     ]
    }
   ],
   "source": [
    "comparison = adata[:, 'COG8'].X == adata[:, 'COG8-1'].X\n",
    "false_values = comparison != True\n",
    "\n",
    "print(false_values.sum()) # Number of cells with different expression for the gene\n",
    "non_zero_pos = false_values.nonzero()[0]\n",
    "print(non_zero_pos) # Cells with different expression for the gene"
   ]
  },
  {
   "cell_type": "code",
   "execution_count": 12,
   "id": "5aed85b5-af2d-4f97-97a4-5ee410303a22",
   "metadata": {
    "scrolled": true
   },
   "outputs": [
    {
     "name": "stdout",
     "output_type": "stream",
     "text": [
      "COG8-1 COG8\n",
      "[[1. 0.]]\n",
      "[[0. 1.]]\n",
      "[[1. 0.]]\n",
      "[[1. 0.]]\n",
      "[[1. 0.]]\n",
      "[[1. 0.]]\n",
      "[[1. 0.]]\n",
      "[[1. 0.]]\n",
      "[[1. 0.]]\n",
      "[[1. 0.]]\n",
      "[[1. 0.]]\n",
      "[[1. 0.]]\n",
      "[[1. 0.]]\n",
      "[[0. 1.]]\n",
      "[[1. 0.]]\n",
      "[[1. 0.]]\n",
      "[[0. 1.]]\n",
      "[[0. 1.]]\n",
      "[[1. 0.]]\n",
      "[[1. 0.]]\n",
      "[[1. 0.]]\n",
      "[[1. 0.]]\n",
      "[[1. 0.]]\n",
      "[[1. 0.]]\n",
      "[[1. 0.]]\n",
      "[[1. 0.]]\n",
      "[[1. 0.]]\n",
      "[[1. 0.]]\n",
      "[[1. 0.]]\n",
      "[[0. 1.]]\n",
      "[[1. 0.]]\n",
      "[[0. 1.]]\n",
      "[[0. 1.]]\n",
      "[[1. 0.]]\n",
      "[[1. 0.]]\n",
      "[[1. 0.]]\n",
      "[[1. 0.]]\n",
      "[[0. 1.]]\n",
      "[[0. 1.]]\n",
      "[[1. 0.]]\n",
      "[[0. 1.]]\n",
      "[[1. 0.]]\n",
      "[[1. 0.]]\n",
      "[[0. 1.]]\n",
      "[[2. 0.]]\n",
      "[[0. 1.]]\n",
      "[[1. 0.]]\n",
      "[[0. 1.]]\n",
      "[[0. 1.]]\n",
      "[[0. 1.]]\n",
      "[[0. 1.]]\n"
     ]
    }
   ],
   "source": [
    "print('COG8-1', 'COG8')\n",
    "for pos in non_zero_pos:\n",
    "    print(adata[pos, ['COG8-1', 'COG8']].X.toarray())"
   ]
  },
  {
   "cell_type": "markdown",
   "id": "b30d7593-5892-4653-9ac9-158b0cf9281f",
   "metadata": {},
   "source": [
    "**So, these duplicates are two completely separated genes**"
   ]
  },
  {
   "cell_type": "markdown",
   "id": "39978281-89bb-4895-95f2-1e340aadf76d",
   "metadata": {},
   "source": [
    "-----------------------------------------"
   ]
  },
  {
   "cell_type": "markdown",
   "id": "0dcbdea9-8878-47ca-bffa-14ce9b984aa1",
   "metadata": {},
   "source": [
    "# Check for genes and duplicates in all the files"
   ]
  },
  {
   "cell_type": "code",
   "execution_count": 12,
   "id": "1980cc5d-2dbc-483d-b7b9-1d3314b58bf4",
   "metadata": {
    "scrolled": true
   },
   "outputs": [
    {
     "data": {
      "text/plain": [
       "['GSM6186021_DeJager_MO_LOAD11_G_filtered_feature_bc_matrix.h5',\n",
       " 'GSM6186022_MA001_filtered_feature_bc_matrix.h5',\n",
       " 'GSM6186023_MA002_filtered_feature_bc_matrix.h5',\n",
       " 'GSM6186024_MA003_filtered_feature_bc_matrix.h5',\n",
       " 'GSM6186025_MA004_filtered_feature_bc_matrix.h5',\n",
       " 'GSM6186026_PM004_filtered_feature_bc_matrix.h5',\n",
       " 'GSM6186027_PM005_filtered_feature_bc_matrix.h5',\n",
       " 'GSM6186028_PM006_filtered_feature_bc_matrix.h5',\n",
       " 'GSM6186029_PM007_filtered_feature_bc_matrix.h5',\n",
       " 'GSM6186030_PM013_filtered_feature_bc_matrix.h5',\n",
       " 'GSM6186031_PM014_filtered_feature_bc_matrix.h5',\n",
       " 'GSM6186032_PM016_filtered_feature_bc_matrix.h5',\n",
       " 'GSM6186033_PM017_filtered_feature_bc_matrix.h5',\n",
       " 'GSM6186034_PM018_filtered_feature_bc_matrix.h5',\n",
       " 'GSM6186035_PM020_filtered_feature_bc_matrix.h5',\n",
       " 'GSM6186036_PM021_filtered_feature_bc_matrix.h5',\n",
       " 'GSM6186037_PM022_filtered_feature_bc_matrix.h5',\n",
       " 'GSM6186038_PM023_filtered_feature_bc_matrix.h5',\n",
       " 'GSM6186039_PM024_filtered_feature_bc_matrix.h5',\n",
       " 'GSM6186040_PM025_filtered_feature_bc_matrix.h5',\n",
       " 'GSM6186041_PM026_filtered_feature_bc_matrix.h5',\n",
       " 'GSM6186042_PM027_filtered_feature_bc_matrix.h5',\n",
       " 'GSM6186043_PM029_filtered_feature_bc_matrix.h5',\n",
       " 'GSM6186044_PM030_filtered_feature_bc_matrix.h5',\n",
       " 'GSM6186045_PM031_filtered_feature_bc_matrix.h5',\n",
       " 'GSM6186046_PM036_filtered_feature_bc_matrix.h5',\n",
       " 'GSM6186047_PM037_filtered_feature_bc_matrix.h5',\n",
       " 'GSM6186048_PM038_filtered_feature_bc_matrix.h5',\n",
       " 'GSM6186049_PM039_filtered_feature_bc_matrix.h5',\n",
       " 'GSM6186050_PM040_filtered_feature_bc_matrix.h5',\n",
       " 'GSM6186051_PM041_filtered_feature_bc_matrix.h5',\n",
       " 'GSM6186052_PM042_filtered_feature_bc_matrix.h5',\n",
       " 'GSM6186053_PM043_filtered_feature_bc_matrix.h5',\n",
       " 'GSM6186054_PM045_filtered_feature_bc_matrix.h5',\n",
       " 'GSM6186055_PM046_filtered_feature_bc_matrix.h5',\n",
       " 'GSM6186056_PM047_filtered_feature_bc_matrix.h5',\n",
       " 'GSM6186057_PM048_filtered_feature_bc_matrix.h5',\n",
       " 'GSM6186058_PM051_filtered_feature_bc_matrix.h5',\n",
       " 'GSM6186059_PM052_filtered_feature_bc_matrix.h5',\n",
       " 'GSM6186060_PM053_filtered_feature_bc_matrix.h5',\n",
       " 'GSM6186061_PM054_filtered_feature_bc_matrix.h5',\n",
       " 'GSM6186062_PM055_filtered_feature_bc_matrix.h5',\n",
       " 'GSM6186063_PM056_filtered_feature_bc_matrix.h5',\n",
       " 'GSM6186064_PM057_filtered_feature_bc_matrix.h5',\n",
       " 'GSM6186065_PM058_filtered_feature_bc_matrix.h5',\n",
       " 'GSM6186066_PM059_filtered_feature_bc_matrix.h5',\n",
       " 'GSM6186067_PM060_filtered_feature_bc_matrix.h5',\n",
       " 'GSM6186068_PM061_filtered_feature_bc_matrix.h5',\n",
       " 'GSM6186069_PM062_filtered_feature_bc_matrix.h5',\n",
       " 'GSM6186070_PM063_filtered_feature_bc_matrix.h5',\n",
       " 'GSM6186071_PM064_filtered_feature_bc_matrix.h5',\n",
       " 'GSM6186072_PM065_filtered_feature_bc_matrix.h5',\n",
       " 'GSM6186073_PM066_filtered_feature_bc_matrix.h5',\n",
       " 'GSM6186074_PM067_filtered_feature_bc_matrix.h5',\n",
       " 'GSM6186075_PM068_filtered_feature_bc_matrix.h5',\n",
       " 'GSM6186076_PM069_filtered_feature_bc_matrix.h5',\n",
       " 'GSM6186077_PM073_filtered_feature_bc_matrix.h5',\n",
       " 'GSM6186078_PM075_filtered_feature_bc_matrix.h5',\n",
       " 'GSM6186079_PM076_filtered_feature_bc_matrix.h5',\n",
       " 'GSM6186080_PM077_filtered_feature_bc_matrix.h5',\n",
       " 'GSM6186081_PM078_filtered_feature_bc_matrix.h5',\n",
       " 'GSM6186082_PM080_filtered_feature_bc_matrix.h5',\n",
       " 'GSM6186083_PM082_filtered_feature_bc_matrix.h5',\n",
       " 'GSM6186084_PM083_filtered_feature_bc_matrix.h5',\n",
       " 'GSM6186085_PM084_filtered_feature_bc_matrix.h5',\n",
       " 'GSM6186086_PM085_filtered_feature_bc_matrix.h5',\n",
       " 'GSM6186087_PM086_filtered_feature_bc_matrix.h5']"
      ]
     },
     "execution_count": 12,
     "metadata": {},
     "output_type": "execute_result"
    }
   ],
   "source": [
    "os.listdir('data files')"
   ]
  },
  {
   "cell_type": "markdown",
   "id": "d1bf51c1-e259-4cf5-ad71-e3d64cd0ae2e",
   "metadata": {},
   "source": [
    "**Find all the files in this directory**"
   ]
  },
  {
   "cell_type": "code",
   "execution_count": 13,
   "id": "3e9a14fa-0207-465e-a508-6c5b9ef7d286",
   "metadata": {},
   "outputs": [],
   "source": [
    "file_names = os.listdir('data files')"
   ]
  },
  {
   "cell_type": "markdown",
   "id": "e733f06b-15c9-422f-9921-26dbd57c1c4d",
   "metadata": {},
   "source": [
    "**3 files for test**"
   ]
  },
  {
   "cell_type": "code",
   "execution_count": 20,
   "id": "278d0c0e-0a06-48c1-ac29-19d0724794f0",
   "metadata": {
    "scrolled": true
   },
   "outputs": [
    {
     "name": "stdout",
     "output_type": "stream",
     "text": [
      "['GSM6186021_DeJager_MO_LOAD11_G_filtered_feature_bc_matrix.h5', 'GSM6186022_MA001_filtered_feature_bc_matrix.h5', 'GSM6186023_MA002_filtered_feature_bc_matrix.h5']\n"
     ]
    }
   ],
   "source": [
    "three_files_only_test = file_names[0:3]\n",
    "print(three_files_only_test)"
   ]
  },
  {
   "cell_type": "code",
   "execution_count": 17,
   "id": "3d6fe028-08fa-4f72-852c-94108a692d4c",
   "metadata": {},
   "outputs": [],
   "source": [
    "# import warnings\n",
    "# warnings.filterwarnings(\"ignore\", message=\"Variable names are not unique\")\n",
    "\n",
    "\n",
    "# duplicates_for_comparison = adata_copy.var_names[adata_copy.var_names.duplicated()]\n",
    "\n",
    "# for file_name in three_files_only_test:\n",
    "#     path = os.path.join(directory, file_name)\n",
    "\n",
    "#     adata_cycle = sc.read_10x_h5(path)\n",
    "    \n",
    "#     number_of_genes = adata_cycle.shape[1]\n",
    "#     list_of_duplicates = adata_cycle.var_names[adata_cycle.var_names.duplicated()]\n",
    "#     number_of_duplicates = len(list_of_duplicates)\n",
    "#     are_genes_the_same = list(list_of_duplicates) == list(duplicates_for_comparison)\n",
    "    \n",
    "#     print(number_of_genes, number_of_duplicates, are_genes_the_same)"
   ]
  },
  {
   "cell_type": "code",
   "execution_count": 30,
   "id": "c64a565f-4a98-4d3e-b388-94a80a323189",
   "metadata": {
    "scrolled": true
   },
   "outputs": [
    {
     "name": "stdout",
     "output_type": "stream",
     "text": [
      "             gene_ids    feature_types  \\\n",
      "COG8  ENSG00000213380  Gene Expression   \n",
      "COG8  ENSG00000272617  Gene Expression   \n",
      "\n",
      "                                               genome  \n",
      "COG8  refdata-cellranger-3.1.0-Homo.sapiens.GRCh38.91  \n",
      "COG8  refdata-cellranger-3.1.0-Homo.sapiens.GRCh38.91  \n",
      "               gene_ids    feature_types  \\\n",
      "COG8-1  ENSG00000272617  Gene Expression   \n",
      "COG8    ENSG00000213380  Gene Expression   \n",
      "\n",
      "                                                 genome  \n",
      "COG8-1  refdata-cellranger-3.1.0-Homo.sapiens.GRCh38.91  \n",
      "COG8    refdata-cellranger-3.1.0-Homo.sapiens.GRCh38.91  \n",
      "             gene_ids    feature_types  \\\n",
      "COG8  ENSG00000213380  Gene Expression   \n",
      "COG8  ENSG00000272617  Gene Expression   \n",
      "\n",
      "                                               genome  \n",
      "COG8  refdata-cellranger-3.1.0-Homo.sapiens.GRCh38.91  \n",
      "COG8  refdata-cellranger-3.1.0-Homo.sapiens.GRCh38.91  \n",
      "               gene_ids    feature_types  \\\n",
      "COG8-1  ENSG00000272617  Gene Expression   \n",
      "COG8    ENSG00000213380  Gene Expression   \n",
      "\n",
      "                                                 genome  \n",
      "COG8-1  refdata-cellranger-3.1.0-Homo.sapiens.GRCh38.91  \n",
      "COG8    refdata-cellranger-3.1.0-Homo.sapiens.GRCh38.91  \n",
      "             gene_ids    feature_types  \\\n",
      "COG8  ENSG00000213380  Gene Expression   \n",
      "COG8  ENSG00000272617  Gene Expression   \n",
      "\n",
      "                                               genome  \n",
      "COG8  refdata-cellranger-3.1.0-Homo.sapiens.GRCh38.91  \n",
      "COG8  refdata-cellranger-3.1.0-Homo.sapiens.GRCh38.91  \n",
      "               gene_ids    feature_types  \\\n",
      "COG8-1  ENSG00000272617  Gene Expression   \n",
      "COG8    ENSG00000213380  Gene Expression   \n",
      "\n",
      "                                                 genome  \n",
      "COG8-1  refdata-cellranger-3.1.0-Homo.sapiens.GRCh38.91  \n",
      "COG8    refdata-cellranger-3.1.0-Homo.sapiens.GRCh38.91  \n"
     ]
    }
   ],
   "source": [
    "# The next code was used (on 3 files) to determine if the function var_names_make_unique() make name \n",
    "# changes the same way for all the files\n",
    "for file_name in three_files_only_test:\n",
    "    path = os.path.join(directory, file_name)\n",
    "\n",
    "    adata_cycle = sc.read_10x_h5(path)\n",
    "\n",
    "    print(adata_cycle.var.loc['COG8'])\n",
    "\n",
    "    adata_cycle.var_names_make_unique()\n",
    "\n",
    "    print(adata_cycle.var.loc[['COG8-1', 'COG8']])\n"
   ]
  },
  {
   "cell_type": "markdown",
   "id": "6fee1ee3-ff43-4d7b-b45a-3250b2471ef8",
   "metadata": {},
   "source": [
    "**Yes, COG8 with gene_ids ENSG00000272617 is always renamed to COG8-1, while COG8 with gene_ids ENSG00000213380 always stay COG8**"
   ]
  },
  {
   "cell_type": "markdown",
   "id": "057fe229-5eb2-4e76-a5df-da8dac19d502",
   "metadata": {},
   "source": [
    "**Find out if duplicates are the same for all the files**"
   ]
  },
  {
   "cell_type": "code",
   "execution_count": 21,
   "id": "5a8a348c-dd4e-4f84-9a83-a978bf796124",
   "metadata": {
    "scrolled": true
   },
   "outputs": [
    {
     "name": "stdout",
     "output_type": "stream",
     "text": [
      "27984 20 True\n",
      "27984 20 True\n",
      "27984 20 True\n",
      "27984 20 True\n",
      "27984 20 True\n",
      "27984 20 True\n",
      "27984 20 True\n",
      "27984 20 True\n",
      "27984 20 True\n",
      "27984 20 True\n",
      "27984 20 True\n",
      "27984 20 True\n",
      "27984 20 True\n",
      "27984 20 True\n",
      "27984 20 True\n",
      "27984 20 True\n",
      "27984 20 True\n",
      "27984 20 True\n",
      "27984 20 True\n",
      "27984 20 True\n",
      "27984 20 True\n",
      "27984 20 True\n",
      "27984 20 True\n",
      "27984 20 True\n",
      "27984 20 True\n",
      "27984 20 True\n",
      "27984 20 True\n",
      "27984 20 True\n",
      "27984 20 True\n",
      "27984 20 True\n",
      "27984 20 True\n",
      "27984 20 True\n",
      "27984 20 True\n",
      "27984 20 True\n",
      "27984 20 True\n",
      "27984 20 True\n",
      "27984 20 True\n",
      "27984 20 True\n",
      "27984 20 True\n",
      "27984 20 True\n",
      "27984 20 True\n",
      "27984 20 True\n",
      "27984 20 True\n",
      "27984 20 True\n",
      "27984 20 True\n",
      "27984 20 True\n",
      "27984 20 True\n",
      "27984 20 True\n",
      "27984 20 True\n",
      "27984 20 True\n",
      "27984 20 True\n",
      "27984 20 True\n",
      "27984 20 True\n",
      "27984 20 True\n",
      "27984 20 True\n",
      "27984 20 True\n",
      "27984 20 True\n",
      "27984 20 True\n",
      "27984 20 True\n",
      "27984 20 True\n",
      "27984 20 True\n",
      "27984 20 True\n",
      "27984 20 True\n",
      "27984 20 True\n",
      "27984 20 True\n",
      "27984 20 True\n",
      "27984 20 True\n"
     ]
    }
   ],
   "source": [
    "import warnings\n",
    "warnings.filterwarnings(\"ignore\", message=\"Variable names are not unique\")\n",
    "\n",
    "\n",
    "# Identify duplicated gene names in the file\n",
    "duplicates_for_comparison = adata_copy.var_names[adata_copy.var_names.duplicated()]\n",
    "\n",
    "# Iterate through each file\n",
    "for file_name in file_names:\n",
    "    path = os.path.join(directory, file_name)\n",
    "\n",
    "    adata_cycle = sc.read_10x_h5(path)\n",
    "\n",
    "    # Find the gene count, the number of duplicates, and whether the duplicates match the reference for each file\n",
    "    number_of_genes = adata_cycle.shape[1]\n",
    "    list_of_duplicates = adata_cycle.var_names[adata_cycle.var_names.duplicated()]\n",
    "    number_of_duplicates = len(list_of_duplicates)\n",
    "    do_genes_match = list(list_of_duplicates) == list(duplicates_for_comparison)\n",
    "    \n",
    "    print(number_of_genes, number_of_duplicates, do_genes_match)"
   ]
  },
  {
   "cell_type": "markdown",
   "id": "23358aeb-7121-47ec-8364-7681e14608d9",
   "metadata": {},
   "source": [
    "--------------------------------------"
   ]
  },
  {
   "cell_type": "markdown",
   "id": "44ef2b76-fa49-4338-90b0-be6bf326f391",
   "metadata": {},
   "source": [
    "# Combine files"
   ]
  },
  {
   "cell_type": "code",
   "execution_count": 42,
   "id": "0b93a6de-0f3d-4100-b65f-9a3b7d1d07ea",
   "metadata": {},
   "outputs": [],
   "source": [
    "# Should I firstly read all the files and save them to the adata_list and then use concat()?\n",
    "# Or should I from the beginning use concat() in the cycle and add 1 file per iteration?"
   ]
  },
  {
   "cell_type": "code",
   "execution_count": 106,
   "id": "d58d7d9a-fe98-4444-9d96-4e4be4794252",
   "metadata": {},
   "outputs": [
    {
     "data": {
      "text/plain": [
       "'\\n!Sample_description\\t\"LOAD11 GM\"\\n!Sample_description\\t\"ALS4 GM\"\\t\"ALS4 GM\"\\t\"ALS4 FN\"\\t\"ALS4 SC\"\\t\"DLBD-PD2 GM\"\\t\"DLBD-PD2 SN\"\\t\"DLBD-PD1 GM\"\\t\"DLBD-PD1 SN\"\\t\"LOAD12 GM\"\\t\"LOAD12 AH\"\\t\"LOAD13 GM\"\\t\"LOAD13 H\"\\t\"LOAD13 SN\"\\t\"LOAD14 GM\"\\t\"LOAD14 H\"\\t\"LOAD14 SN\"\\t\"LOAD15 GM\"\\t\"LOAD15 H\"\\t\"LOAD15 SN\"\\t\"PSP2 H\"\\t\"PSP2 SN\"\\t\"PSP3 GM\"\\t\"FTD1 GM\"\\t\"FTD1 H\"\\t\"ALS1 GM\"\\t\"ALS1 GM\"\\t\"ALS1 FN\"\\t\"ALS1 SC\"\\t\"ALS2 GM\"\\t\"ALS2 GM\"\\t\"ALS2 FN\"\\t\"ALS2 SC\"\\t\"ALS3 GM\"\\t\"ALS3 GM\"\\t\"ALS3 FN\"\\t\"ALS3 SC\"\\t\"ALS5 GM\"\\t\"ALS5 SC\"\\t\"DLBD-PD3 GM\"\\t\"DLBD-PD3 SN\"\\t\"MS1 AWS\"\\t\"MS1 GM\"\\t\"MS1 TH\"\\t\"ALS6 BA9+BA4+SC\"\\t\"LOAD1 BA9+BA20+H\"\\t\"LOAD2 BA9+BA20+H\"\\t\"EOAD1 BA9+BA20+H\"\\t\"ALS7 BA9+BA4+SC\"\\t\"ALS/FTD1 BA9+BA4+SC\"\\t\"MS2 BA9+TH+Lesion+AWS\"\\t\"LOAD20 BA9+BA20+H\"\\t\"EOAD2 BA9+BA20+H\"\\t\"LOAD21 BA9+BA20+H\"\\t\"DLBD-PD4 BA9+SN\"\\t\"ALS8 BA9+BA4+SC\"\\t\"CNTRL1 BA9+BA4+H+SN\"\\t\"LOAD26 GM\"\\t\"LOAD27 BA9+H\"\\t\"ALS/FTD2 BA9+BA4+SC; DLBD-PD5 BA9+SN\"\\t\"LOAD28 BA9+BA20+H\"\\t\"ALS9 BA9+BA4+SC\"\\t\"LOAD31 BA9+BA20+H\"\\t\"LOAD32 BA9+BA20+H\"\\t\"LOAD33 BA9+BA20+H\"\\t\"LOAD34 BA9+AWS\"\\t\"LOAD35 BA9+BA20+H;HD1 BA9+BA20+H\"\\n'"
      ]
     },
     "execution_count": 106,
     "metadata": {},
     "output_type": "execute_result"
    }
   ],
   "source": [
    "\"\"\"\n",
    "!Sample_description\t\"LOAD11 GM\"\n",
    "!Sample_description\t\"ALS4 GM\"\t\"ALS4 GM\"\t\"ALS4 FN\"\t\"ALS4 SC\"\t\"DLBD-PD2 GM\"\t\"DLBD-PD2 SN\"\t\"DLBD-PD1 GM\"\t\"DLBD-PD1 SN\"\t\"LOAD12 GM\"\t\"LOAD12 AH\"\t\"LOAD13 GM\"\t\"LOAD13 H\"\t\"LOAD13 SN\"\t\"LOAD14 GM\"\t\"LOAD14 H\"\t\"LOAD14 SN\"\t\"LOAD15 GM\"\t\"LOAD15 H\"\t\"LOAD15 SN\"\t\"PSP2 H\"\t\"PSP2 SN\"\t\"PSP3 GM\"\t\"FTD1 GM\"\t\"FTD1 H\"\t\"ALS1 GM\"\t\"ALS1 GM\"\t\"ALS1 FN\"\t\"ALS1 SC\"\t\"ALS2 GM\"\t\"ALS2 GM\"\t\"ALS2 FN\"\t\"ALS2 SC\"\t\"ALS3 GM\"\t\"ALS3 GM\"\t\"ALS3 FN\"\t\"ALS3 SC\"\t\"ALS5 GM\"\t\"ALS5 SC\"\t\"DLBD-PD3 GM\"\t\"DLBD-PD3 SN\"\t\"MS1 AWS\"\t\"MS1 GM\"\t\"MS1 TH\"\t\"ALS6 BA9+BA4+SC\"\t\"LOAD1 BA9+BA20+H\"\t\"LOAD2 BA9+BA20+H\"\t\"EOAD1 BA9+BA20+H\"\t\"ALS7 BA9+BA4+SC\"\t\"ALS/FTD1 BA9+BA4+SC\"\t\"MS2 BA9+TH+Lesion+AWS\"\t\"LOAD20 BA9+BA20+H\"\t\"EOAD2 BA9+BA20+H\"\t\"LOAD21 BA9+BA20+H\"\t\"DLBD-PD4 BA9+SN\"\t\"ALS8 BA9+BA4+SC\"\t\"CNTRL1 BA9+BA4+H+SN\"\t\"LOAD26 GM\"\t\"LOAD27 BA9+H\"\t\"ALS/FTD2 BA9+BA4+SC; DLBD-PD5 BA9+SN\"\t\"LOAD28 BA9+BA20+H\"\t\"ALS9 BA9+BA4+SC\"\t\"LOAD31 BA9+BA20+H\"\t\"LOAD32 BA9+BA20+H\"\t\"LOAD33 BA9+BA20+H\"\t\"LOAD34 BA9+AWS\"\t\"LOAD35 BA9+BA20+H;HD1 BA9+BA20+H\"\n",
    "\"\"\""
   ]
  },
  {
   "cell_type": "code",
   "execution_count": 134,
   "id": "7b65cbb3-20d0-419d-bb79-63cc43f5a201",
   "metadata": {},
   "outputs": [
    {
     "name": "stdout",
     "output_type": "stream",
     "text": [
      "['LOAD', 'ALS', 'ALS', 'ALS', 'ALS', 'DLBD-PD', 'DLBD-PD', 'DLBD-PD', 'DLBD-PD', 'LOAD', 'LOAD', 'LOAD', 'LOAD', 'LOAD', 'LOAD', 'LOAD', 'LOAD', 'LOAD', 'LOAD', 'LOAD', 'PSP', 'PSP', 'PSP', 'FTD', 'FTD', 'ALS', 'ALS', 'ALS', 'ALS', 'ALS', 'ALS', 'ALS', 'ALS', 'ALS', 'ALS', 'ALS', 'ALS', 'ALS', 'ALS', 'DLBD-PD', 'DLBD-PD', 'MS', 'MS', 'MS', 'ALS', 'LOAD', 'LOAD', 'EOAD', 'ALS', 'ALS/FTD', 'MS', 'LOAD', 'EOAD', 'LOAD', 'DLBD-PD', 'ALS', 'CNTRL', 'LOAD', 'LOAD', 'ALS/FTD', 'LOAD', 'ALS', 'LOAD', 'LOAD', 'LOAD', 'LOAD', 'LOAD']\n"
     ]
    }
   ],
   "source": [
    "sample_description = 'LOAD11 GM\"\t\"ALS4 GM\"\t\"ALS4 GM\"\t\"ALS4 FN\"\t\"ALS4 SC\"\t\"DLBD-PD2 GM\"\t\"DLBD-PD2 SN\"\t\"DLBD-PD1 GM\"\t\"DLBD-PD1 SN\"\t\"LOAD12 GM\"\t\"LOAD12 AH\"\t\"LOAD13 GM\"\t\"LOAD13 H\"\t\"LOAD13 SN\"\t\"LOAD14 GM\"\t\"LOAD14 H\"\t\"LOAD14 SN\"\t\"LOAD15 GM\"\t\"LOAD15 H\"\t\"LOAD15 SN\"\t\"PSP2 H\"\t\"PSP2 SN\"\t\"PSP3 GM\"\t\"FTD1 GM\"\t\"FTD1 H\"\t\"ALS1 GM\"\t\"ALS1 GM\"\t\"ALS1 FN\"\t\"ALS1 SC\"\t\"ALS2 GM\"\t\"ALS2 GM\"\t\"ALS2 FN\"\t\"ALS2 SC\"\t\"ALS3 GM\"\t\"ALS3 GM\"\t\"ALS3 FN\"\t\"ALS3 SC\"\t\"ALS5 GM\"\t\"ALS5 SC\"\t\"DLBD-PD3 GM\"\t\"DLBD-PD3 SN\"\t\"MS1 AWS\"\t\"MS1 GM\"\t\"MS1 TH\"\t\"ALS6 BA9+BA4+SC\"\t\"LOAD1 BA9+BA20+H\"\t\"LOAD2 BA9+BA20+H\"\t\"EOAD1 BA9+BA20+H\"\t\"ALS7 BA9+BA4+SC\"\t\"ALS/FTD1 BA9+BA4+SC\"\t\"MS2 BA9+TH+Lesion+AWS\"\t\"LOAD20 BA9+BA20+H\"\t\"EOAD2 BA9+BA20+H\"\t\"LOAD21 BA9+BA20+H\"\t\"DLBD-PD4 BA9+SN\"\t\"ALS8 BA9+BA4+SC\"\t\"CNTRL1 BA9+BA4+H+SN\"\t\"LOAD26 GM\"\t\"LOAD27 BA9+H\"\t\"ALS/FTD2 BA9+BA4+SC; DLBD-PD5 BA9+SN\"\t\"LOAD28 BA9+BA20+H\"\t\"ALS9 BA9+BA4+SC\"\t\"LOAD31 BA9+BA20+H\"\t\"LOAD32 BA9+BA20+H\"\t\"LOAD33 BA9+BA20+H\"\t\"LOAD34 BA9+AWS\"\t\"LOAD35 BA9+BA20+H;HD1 BA9+BA20+H\"'\n",
    "\n",
    "sample_description = sample_description.replace('\"', '')\n",
    "sample_description_list = sample_description.split('\\t')\n",
    "\n",
    "processed_sample_description_list = []\n",
    "for element in sample_description_list:\n",
    "    # Remove space and anything after it\n",
    "    processed_element = element.split(' ')[0]\n",
    "    processed_sample_description_list.append(processed_element)\n",
    "\n",
    "\n",
    "condition_list = []\n",
    "import re\n",
    "for element in processed_sample_description_list:\n",
    "    # Use a regular expression to remove trailing numbers\n",
    "    cleaned_element = re.sub(r'\\d+$', '', element)\n",
    "    condition_list.append(cleaned_element)\n",
    "    \n",
    "print(condition_list)"
   ]
  },
  {
   "cell_type": "code",
   "execution_count": null,
   "id": "7fc4efe5-f005-4f57-be92-1372171c0332",
   "metadata": {},
   "outputs": [],
   "source": []
  },
  {
   "cell_type": "code",
   "execution_count": null,
   "id": "d98c9a40-2124-4651-9182-9821ffdc8ddd",
   "metadata": {},
   "outputs": [],
   "source": []
  },
  {
   "cell_type": "code",
   "execution_count": null,
   "id": "9c76e58a-cd22-45ba-b1b8-41088c3f7776",
   "metadata": {},
   "outputs": [],
   "source": []
  },
  {
   "cell_type": "code",
   "execution_count": null,
   "id": "7a244e74-84fd-4e93-8404-9f077d6b16c9",
   "metadata": {},
   "outputs": [],
   "source": []
  },
  {
   "cell_type": "code",
   "execution_count": 135,
   "id": "23c14e69-31f1-464d-89c5-b536e1a51816",
   "metadata": {
    "scrolled": true
   },
   "outputs": [
    {
     "name": "stdout",
     "output_type": "stream",
     "text": [
      "[AnnData object with n_obs × n_vars = 1359 × 27984\n",
      "    var: 'gene_ids', 'feature_types', 'genome', 'file_number', 'condition', AnnData object with n_obs × n_vars = 2177 × 27984\n",
      "    var: 'gene_ids', 'feature_types', 'genome', 'file_number', 'condition', AnnData object with n_obs × n_vars = 2510 × 27984\n",
      "    var: 'gene_ids', 'feature_types', 'genome', 'file_number', 'condition']\n"
     ]
    }
   ],
   "source": [
    "# Create a list for all the adata objects corresponding to the files \n",
    "adata_list = []\n",
    "\n",
    "# for file_name in three_files_only_test:\n",
    "for i, file_name in enumerate(three_files_only_test):\n",
    "\n",
    "    path = os.path.join(directory, file_name)\n",
    "\n",
    "    adata_cycle = sc.read_10x_h5(path)\n",
    "    \n",
    "    adata_cycle.var_names_make_unique()\n",
    "\n",
    "    adata_cycle.var['file_number']= i\n",
    "    adata_cycle.var['condition'] = condition_list[i]\n",
    "    \n",
    "    adata_list.append(adata_cycle)\n",
    "\n",
    "print(adata_list)"
   ]
  },
  {
   "cell_type": "code",
   "execution_count": 120,
   "id": "28cc9320-5aaa-4e75-b75f-0b3be9df4a42",
   "metadata": {},
   "outputs": [
    {
     "name": "stderr",
     "output_type": "stream",
     "text": [
      "C:\\Users\\redegator\\mambaforge\\envs\\ML\\lib\\site-packages\\anndata\\_core\\anndata.py:1756: UserWarning: Observation names are not unique. To make them unique, call `.obs_names_make_unique`.\n",
      "  utils.warn_names_duplicates(\"obs\")\n"
     ]
    }
   ],
   "source": [
    "adata_combined = ad.concat(adata_list,  join=\"outer\")"
   ]
  },
  {
   "cell_type": "code",
   "execution_count": 121,
   "id": "95845e33-11f8-47f3-bda4-b79157e2a9dd",
   "metadata": {},
   "outputs": [
    {
     "data": {
      "text/plain": [
       "AnnData object with n_obs × n_vars = 6046 × 27984"
      ]
     },
     "execution_count": 121,
     "metadata": {},
     "output_type": "execute_result"
    }
   ],
   "source": [
    "adata_combined"
   ]
  },
  {
   "cell_type": "code",
   "execution_count": 122,
   "id": "47a02f1e-bc68-4f3c-ab3d-26d246d1a8f2",
   "metadata": {
    "scrolled": true
   },
   "outputs": [
    {
     "data": {
      "text/html": [
       "<div>\n",
       "<style scoped>\n",
       "    .dataframe tbody tr th:only-of-type {\n",
       "        vertical-align: middle;\n",
       "    }\n",
       "\n",
       "    .dataframe tbody tr th {\n",
       "        vertical-align: top;\n",
       "    }\n",
       "\n",
       "    .dataframe thead th {\n",
       "        text-align: right;\n",
       "    }\n",
       "</style>\n",
       "<table border=\"1\" class=\"dataframe\">\n",
       "  <thead>\n",
       "    <tr style=\"text-align: right;\">\n",
       "      <th></th>\n",
       "    </tr>\n",
       "  </thead>\n",
       "  <tbody>\n",
       "    <tr>\n",
       "      <th>MIR1302-2HG</th>\n",
       "    </tr>\n",
       "    <tr>\n",
       "      <th>FAM138A</th>\n",
       "    </tr>\n",
       "    <tr>\n",
       "      <th>OR4F5</th>\n",
       "    </tr>\n",
       "    <tr>\n",
       "      <th>AL627309.1</th>\n",
       "    </tr>\n",
       "    <tr>\n",
       "      <th>AL627309.3</th>\n",
       "    </tr>\n",
       "    <tr>\n",
       "      <th>...</th>\n",
       "    </tr>\n",
       "    <tr>\n",
       "      <th>AC233755.2</th>\n",
       "    </tr>\n",
       "    <tr>\n",
       "      <th>AC233755.1</th>\n",
       "    </tr>\n",
       "    <tr>\n",
       "      <th>AC240274.1</th>\n",
       "    </tr>\n",
       "    <tr>\n",
       "      <th>AC213203.1</th>\n",
       "    </tr>\n",
       "    <tr>\n",
       "      <th>FAM231D</th>\n",
       "    </tr>\n",
       "  </tbody>\n",
       "</table>\n",
       "<p>27984 rows × 0 columns</p>\n",
       "</div>"
      ],
      "text/plain": [
       "Empty DataFrame\n",
       "Columns: []\n",
       "Index: [MIR1302-2HG, FAM138A, OR4F5, AL627309.1, AL627309.3, AL627309.4, AL732372.1, OR4F29, AC114498.1, OR4F16, AL669831.5, FAM87B, LINC00115, FAM41C, AL645608.7, AL645608.3, AL645608.5, AL645608.1, SAMD11, NOC2L, KLHL17, PLEKHN1, PERM1, AL645608.8, HES4, ISG15, AGRN, AL645608.9, RNF223, C1orf159, LINC01342, AL390719.2, TTLL10, TNFRSF18, TNFRSF4, SDF4, B3GALT6, C1QTNF12, AL162741.1, UBE2J2, LINC01786, SCNN1D, ACAP3, PUSL1, INTS11, CPTP, TAS1R3, DVL1, MXRA8, AURKAIP1, CCNL2, MRPL20, AL391244.3, ANKRD65, TMEM88B, LINC01770, VWA1, ATAD3C, ATAD3B, ATAD3A, TMEM240, SSU72, AL645728.1, FNDC10, MIB2, MMP23B, CDK11B, SLC35E2B, CDK11A, SLC35E2, NADK, GNB1, CALML6, TMEM52, CFAP74, GABRD, PRKCZ, FAAP20, AL590822.1, SKI, MORN1, RER1, PEX10, PLCH2, PANK4, HES5, AL139246.5, TNFRSF14, AL139246.3, FAM213B, MMEL1, TTC34, AL592464.2, AL592464.1, AL589702.1, ACTRT2, PRDM16, AL590438.1, ARHGEF16, AL512413.1, ...]\n",
       "\n",
       "[27984 rows x 0 columns]"
      ]
     },
     "execution_count": 122,
     "metadata": {},
     "output_type": "execute_result"
    }
   ],
   "source": [
    "adata_combined.var # It is empty for some reason"
   ]
  },
  {
   "cell_type": "code",
   "execution_count": 136,
   "id": "99c70547-b482-4823-a8bd-d3815236c736",
   "metadata": {},
   "outputs": [
    {
     "name": "stdout",
     "output_type": "stream",
     "text": [
      "                    gene_ids    feature_types  \\\n",
      "MIR1302-2HG  ENSG00000243485  Gene Expression   \n",
      "FAM138A      ENSG00000237613  Gene Expression   \n",
      "OR4F5        ENSG00000186092  Gene Expression   \n",
      "AL627309.1   ENSG00000238009  Gene Expression   \n",
      "AL627309.3   ENSG00000239945  Gene Expression   \n",
      "...                      ...              ...   \n",
      "AC233755.2   ENSG00000277856  Gene Expression   \n",
      "AC233755.1   ENSG00000275063  Gene Expression   \n",
      "AC240274.1   ENSG00000271254  Gene Expression   \n",
      "AC213203.1   ENSG00000277475  Gene Expression   \n",
      "FAM231D      ENSG00000268674  Gene Expression   \n",
      "\n",
      "                                                      genome  file_number  \\\n",
      "MIR1302-2HG  refdata-cellranger-3.1.0-Homo.sapiens.GRCh38.91            2   \n",
      "FAM138A      refdata-cellranger-3.1.0-Homo.sapiens.GRCh38.91            2   \n",
      "OR4F5        refdata-cellranger-3.1.0-Homo.sapiens.GRCh38.91            2   \n",
      "AL627309.1   refdata-cellranger-3.1.0-Homo.sapiens.GRCh38.91            2   \n",
      "AL627309.3   refdata-cellranger-3.1.0-Homo.sapiens.GRCh38.91            2   \n",
      "...                                                      ...          ...   \n",
      "AC233755.2   refdata-cellranger-3.1.0-Homo.sapiens.GRCh38.91            2   \n",
      "AC233755.1   refdata-cellranger-3.1.0-Homo.sapiens.GRCh38.91            2   \n",
      "AC240274.1   refdata-cellranger-3.1.0-Homo.sapiens.GRCh38.91            2   \n",
      "AC213203.1   refdata-cellranger-3.1.0-Homo.sapiens.GRCh38.91            2   \n",
      "FAM231D      refdata-cellranger-3.1.0-Homo.sapiens.GRCh38.91            2   \n",
      "\n",
      "            condition  \n",
      "MIR1302-2HG       ALS  \n",
      "FAM138A           ALS  \n",
      "OR4F5             ALS  \n",
      "AL627309.1        ALS  \n",
      "AL627309.3        ALS  \n",
      "...               ...  \n",
      "AC233755.2        ALS  \n",
      "AC233755.1        ALS  \n",
      "AC240274.1        ALS  \n",
      "AC213203.1        ALS  \n",
      "FAM231D           ALS  \n",
      "\n",
      "[27984 rows x 5 columns]\n"
     ]
    }
   ],
   "source": [
    "print(adata_cycle.var)"
   ]
  },
  {
   "cell_type": "code",
   "execution_count": null,
   "id": "32f1a69f-f3aa-4f67-b3c9-8bb6b9ecf6d5",
   "metadata": {},
   "outputs": [],
   "source": []
  },
  {
   "cell_type": "code",
   "execution_count": null,
   "id": "3921ef6c-dce2-4139-8089-b9bdfea2e3ba",
   "metadata": {},
   "outputs": [],
   "source": []
  }
 ],
 "metadata": {
  "kernelspec": {
   "display_name": "Python (ML)",
   "language": "python",
   "name": "ml"
  },
  "language_info": {
   "codemirror_mode": {
    "name": "ipython",
    "version": 3
   },
   "file_extension": ".py",
   "mimetype": "text/x-python",
   "name": "python",
   "nbconvert_exporter": "python",
   "pygments_lexer": "ipython3",
   "version": "3.10.14"
  }
 },
 "nbformat": 4,
 "nbformat_minor": 5
}
